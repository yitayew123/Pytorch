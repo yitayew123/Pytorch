{
 "cells": [
  {
   "cell_type": "code",
   "execution_count": 1,
   "id": "bdb221db-2373-46c2-8be1-fb1bbf707255",
   "metadata": {},
   "outputs": [],
   "source": [
    "import torch"
   ]
  },
  {
   "cell_type": "code",
   "execution_count": 3,
   "id": "ad2d9190-2896-49a3-87ae-ac4e0fe819ef",
   "metadata": {},
   "outputs": [
    {
     "data": {
      "text/plain": [
       "'2.3.1'"
      ]
     },
     "execution_count": 3,
     "metadata": {},
     "output_type": "execute_result"
    }
   ],
   "source": [
    "torch.__version__"
   ]
  },
  {
   "cell_type": "markdown",
   "id": "61dcf5e4-db4d-4d79-800d-2df530b60e65",
   "metadata": {},
   "source": [
    "## What is PyTorch?"
   ]
  },
  {
   "cell_type": "markdown",
   "id": "fb0f61c0-79c3-43c8-bd32-924b983bf45d",
   "metadata": {},
   "source": [
    "* PyTorch is an open-source deep learning framework developed by Facebook's AI Research (FAIR) lab. It provides a flexible and efficient platform for building and training deep learning models. PyTorch is particularly popular for research and development because of its dynamic computation graph, which allows developers to modify the graph on-the-fly during execution.\n",
    "\n",
    "#### Key features of PyTorch include:\n",
    "\n",
    "* **Tensors**: Multidimensional arrays with GPU acceleration.\n",
    "* **Autograd**: Automatic differentiation for dynamic computation graphs.\n",
    "* **Torch.nn**: Modules for building neural networks.\n",
    "* **Optimizers**: Tools for gradient-based optimization.\n",
    "* **Data Loading Utilities**: Built-in support for handling datasets and creating data pipelines."
   ]
  },
  {
   "cell_type": "markdown",
   "id": "e7fc4371-0418-430b-9188-9958282fd649",
   "metadata": {},
   "source": [
    "## 1. Creating Tensors"
   ]
  },
  {
   "cell_type": "code",
   "execution_count": 4,
   "id": "6d3f3e4b-243b-456a-a78f-672d8f25f976",
   "metadata": {},
   "outputs": [],
   "source": [
    "import numpy as np"
   ]
  },
  {
   "cell_type": "code",
   "execution_count": 6,
   "id": "4dc146b9-fa9d-46f2-995f-4ad7165989d6",
   "metadata": {},
   "outputs": [
    {
     "data": {
      "text/plain": [
       "numpy.ndarray"
      ]
     },
     "execution_count": 6,
     "metadata": {},
     "output_type": "execute_result"
    }
   ],
   "source": [
    "array = np.array([1,2,3,4,5])\n",
    "type(array)"
   ]
  },
  {
   "cell_type": "code",
   "execution_count": 7,
   "id": "354e9ac1-70f7-483d-bf7d-a7c1053ddd69",
   "metadata": {},
   "outputs": [
    {
     "data": {
      "text/plain": [
       "dtype('int32')"
      ]
     },
     "execution_count": 7,
     "metadata": {},
     "output_type": "execute_result"
    }
   ],
   "source": [
    "array.dtype"
   ]
  },
  {
   "cell_type": "code",
   "execution_count": 8,
   "id": "a0850c8c-1428-42e7-afb8-4b18692d6bfb",
   "metadata": {},
   "outputs": [
    {
     "data": {
      "text/plain": [
       "array([1, 2, 3, 4, 5])"
      ]
     },
     "execution_count": 8,
     "metadata": {},
     "output_type": "execute_result"
    }
   ],
   "source": [
    "array"
   ]
  },
  {
   "cell_type": "code",
   "execution_count": 10,
   "id": "d6fc3408-f40b-4aca-8359-d270991372c2",
   "metadata": {},
   "outputs": [
    {
     "data": {
      "text/plain": [
       "tensor([1, 2, 3, 4, 5], dtype=torch.int32)"
      ]
     },
     "execution_count": 10,
     "metadata": {},
     "output_type": "execute_result"
    }
   ],
   "source": [
    "tensor = torch.from_numpy(array)\n",
    "tensor"
   ]
  },
  {
   "cell_type": "code",
   "execution_count": 11,
   "id": "650f495d-3dc4-487c-9341-95e0a4143862",
   "metadata": {},
   "outputs": [
    {
     "name": "stdout",
     "output_type": "stream",
     "text": [
      "tensor([[1., 2.],\n",
      "        [3., 4.]])\n"
     ]
    }
   ],
   "source": [
    "# Creating a tensor from a Python list\n",
    "tensor = torch.tensor([[1, 2], [3, 4]], dtype=torch.float32)\n",
    "print(tensor)"
   ]
  },
  {
   "cell_type": "code",
   "execution_count": 12,
   "id": "63b1bf74-bbc4-41a8-8119-df7ca1adbf34",
   "metadata": {},
   "outputs": [
    {
     "name": "stdout",
     "output_type": "stream",
     "text": [
      "tensor([[8.7352e-02, 5.4479e-04, 6.1771e-01],\n",
      "        [5.1350e-01, 7.6746e-01, 7.3313e-01]])\n"
     ]
    }
   ],
   "source": [
    "# Creating a tensor with random values\n",
    "random_tensor = torch.rand(2, 3)  # 2x3 matrix with values between 0 and 1\n",
    "print(random_tensor)"
   ]
  },
  {
   "cell_type": "code",
   "execution_count": 13,
   "id": "3309242a-39a8-41e3-90da-053abe6d926d",
   "metadata": {},
   "outputs": [
    {
     "name": "stdout",
     "output_type": "stream",
     "text": [
      "tensor([[0., 0., 0.],\n",
      "        [0., 0., 0.]])\n",
      "tensor([[1., 1., 1.],\n",
      "        [1., 1., 1.]])\n"
     ]
    }
   ],
   "source": [
    "# Tensor of zeros\n",
    "zeros_tensor = torch.zeros(2, 3)  # 2x3 matrix with all elements as 0\n",
    "print(zeros_tensor)\n",
    "\n",
    "# Tensor of ones\n",
    "ones_tensor = torch.ones(2, 3)  # 2x3 matrix with all elements as 1\n",
    "print(ones_tensor)"
   ]
  },
  {
   "cell_type": "markdown",
   "id": "15dbbc91-49fe-48ed-aeae-5fe67e962f40",
   "metadata": {},
   "source": [
    "## 2. Tensor Arithmetic"
   ]
  },
  {
   "cell_type": "code",
   "execution_count": 14,
   "id": "c21bcb68-0225-4560-8b52-981fb86ef7bf",
   "metadata": {},
   "outputs": [
    {
     "name": "stdout",
     "output_type": "stream",
     "text": [
      "Sum: tensor([5, 7, 9])\n"
     ]
    }
   ],
   "source": [
    "a = torch.tensor([1, 2, 3])\n",
    "b = torch.tensor([4, 5, 6])\n",
    "\n",
    "# Element-wise addition\n",
    "sum_tensor = a + b\n",
    "print(\"Sum:\", sum_tensor)"
   ]
  },
  {
   "cell_type": "code",
   "execution_count": 15,
   "id": "384907ab-5a56-4c66-b80f-2f3b6d9280c0",
   "metadata": {},
   "outputs": [
    {
     "name": "stdout",
     "output_type": "stream",
     "text": [
      "Difference: tensor([-3, -3, -3])\n"
     ]
    }
   ],
   "source": [
    "# Element-wise subtraction\n",
    "diff_tensor = a - b\n",
    "print(\"Difference:\", diff_tensor)"
   ]
  },
  {
   "cell_type": "code",
   "execution_count": 16,
   "id": "3ec82461-5a8f-42d2-a7c7-db29ca59e7f3",
   "metadata": {},
   "outputs": [
    {
     "name": "stdout",
     "output_type": "stream",
     "text": [
      "Product: tensor([ 4, 10, 18])\n"
     ]
    }
   ],
   "source": [
    "# Element-wise multiplication\n",
    "prod_tensor = a * b\n",
    "print(\"Product:\", prod_tensor)"
   ]
  },
  {
   "cell_type": "code",
   "execution_count": 18,
   "id": "f1d56def-5bc5-4916-a4e6-2a2e649c1258",
   "metadata": {},
   "outputs": [
    {
     "name": "stdout",
     "output_type": "stream",
     "text": [
      "Matrix product: \n",
      " tensor([[19, 22],\n",
      "        [43, 50]])\n"
     ]
    }
   ],
   "source": [
    "a = torch.tensor([[1, 2], [3, 4]])\n",
    "b = torch.tensor([[5, 6], [7, 8]])\n",
    "\n",
    "# Matrix multiplication\n",
    "matrix_prod = torch.matmul(a, b)\n",
    "print(\"Matrix product: \\n\", matrix_prod)"
   ]
  },
  {
   "cell_type": "markdown",
   "id": "69ba6db9-9211-4499-be9b-55cde380a56b",
   "metadata": {},
   "source": [
    "## 3. Reshaping Tensors"
   ]
  },
  {
   "cell_type": "code",
   "execution_count": 20,
   "id": "10b9d8cd-8184-4d77-82a7-aa4815671358",
   "metadata": {},
   "outputs": [
    {
     "name": "stdout",
     "output_type": "stream",
     "text": [
      "Reshaped tensor:\n",
      " tensor([[1, 2],\n",
      "        [3, 4],\n",
      "        [5, 6]])\n"
     ]
    }
   ],
   "source": [
    "tensor = torch.tensor([[1, 2, 3], [4, 5, 6]])\n",
    "\n",
    "# Reshaping to a different size\n",
    "reshaped_tensor = tensor.view(3, 2)  # 3x2 tensor\n",
    "print(\"Reshaped tensor:\\n\", reshaped_tensor)"
   ]
  },
  {
   "cell_type": "code",
   "execution_count": 21,
   "id": "16b1a572-569d-4b9a-a080-841f7a03afdd",
   "metadata": {},
   "outputs": [
    {
     "name": "stdout",
     "output_type": "stream",
     "text": [
      "Flattened tensor: tensor([1, 2, 3, 4, 5, 6])\n"
     ]
    }
   ],
   "source": [
    "# Flattening the tensor to a 1D vector\n",
    "flattened_tensor = tensor.view(-1)\n",
    "print(\"Flattened tensor:\", flattened_tensor)"
   ]
  },
  {
   "cell_type": "markdown",
   "id": "e1921375-8ffd-4a9e-a00a-5d5b5d186853",
   "metadata": {},
   "source": [
    "## 4. Slicing and Indexing"
   ]
  },
  {
   "cell_type": "code",
   "execution_count": 22,
   "id": "ea978a0f-1707-4bfc-835d-f32be0ad0a0d",
   "metadata": {},
   "outputs": [
    {
     "name": "stdout",
     "output_type": "stream",
     "text": [
      "Element: tensor(2)\n"
     ]
    }
   ],
   "source": [
    "tensor = torch.tensor([[1, 2, 3], [4, 5, 6]])\n",
    "\n",
    "# Access a specific element\n",
    "element = tensor[0, 1]  # First row, second column\n",
    "print(\"Element:\", element)"
   ]
  },
  {
   "cell_type": "code",
   "execution_count": 24,
   "id": "1162fc9c-f4de-4747-a56d-2458047381b8",
   "metadata": {},
   "outputs": [
    {
     "name": "stdout",
     "output_type": "stream",
     "text": [
      "Sliced tensor:\n",
      " tensor([[2, 3],\n",
      "        [5, 6]])\n"
     ]
    }
   ],
   "source": [
    "# Slice a part of the tensor\n",
    "slice_tensor = tensor[:, 1:]  # All rows, from second column onward\n",
    "print(\"Sliced tensor:\\n\", slice_tensor)"
   ]
  },
  {
   "cell_type": "markdown",
   "id": "38893f81-92fb-44ca-b211-16877680c4c3",
   "metadata": {},
   "source": [
    "## 5. Tensor Concatenation"
   ]
  },
  {
   "cell_type": "code",
   "execution_count": 28,
   "id": "618d6e1c-1b1e-4336-9212-9d6921380426",
   "metadata": {},
   "outputs": [
    {
     "name": "stdout",
     "output_type": "stream",
     "text": [
      "Concatenated along rows:\n",
      " tensor([[1, 2],\n",
      "        [3, 4],\n",
      "        [5, 6],\n",
      "        [7, 8]])\n"
     ]
    }
   ],
   "source": [
    "a = torch.tensor([[1, 2], [3, 4]])\n",
    "b = torch.tensor([[5, 6], [7, 8]])\n",
    "\n",
    "concat_tensor = torch.cat((a, b), dim=0)  # Concatenate along rows\n",
    "print(\"Concatenated along rows:\\n\", concat_tensor)"
   ]
  },
  {
   "cell_type": "code",
   "execution_count": 29,
   "id": "916e3e72-d7e3-4a85-8ad8-34972be092e2",
   "metadata": {},
   "outputs": [
    {
     "name": "stdout",
     "output_type": "stream",
     "text": [
      "Using device: cpu\n"
     ]
    }
   ],
   "source": [
    "# Check if CUDA is available (i.e., if GPU is available)\n",
    "device = torch.device(\"cuda\" if torch.cuda.is_available() else \"cpu\")\n",
    "print(\"Using device:\", device)"
   ]
  },
  {
   "cell_type": "code",
   "execution_count": null,
   "id": "077de130-20a0-4fba-982f-b008bed9c686",
   "metadata": {},
   "outputs": [],
   "source": []
  }
 ],
 "metadata": {
  "kernelspec": {
   "display_name": "Python 3 (ipykernel)",
   "language": "python",
   "name": "python3"
  },
  "language_info": {
   "codemirror_mode": {
    "name": "ipython",
    "version": 3
   },
   "file_extension": ".py",
   "mimetype": "text/x-python",
   "name": "python",
   "nbconvert_exporter": "python",
   "pygments_lexer": "ipython3",
   "version": "3.12.8"
  }
 },
 "nbformat": 4,
 "nbformat_minor": 5
}
